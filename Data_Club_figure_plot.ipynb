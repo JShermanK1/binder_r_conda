{
 "cells": [
  {
   "cell_type": "code",
   "execution_count": 1,
   "id": "changed-feature",
   "metadata": {},
   "outputs": [],
   "source": [
    "import pandas as pd #import pandas\n",
    "from matplotlib import pyplot as plt #import just the pyplot part of matplotlib\n"
   ]
  },
  {
   "cell_type": "code",
   "execution_count": 2,
   "id": "altered-parish",
   "metadata": {},
   "outputs": [],
   "source": [
    "DNase = pd.read_csv(\"./DNase.csv\") #use pandas to read the csv of DNase made seperately in R"
   ]
  },
  {
   "cell_type": "code",
   "execution_count": 3,
   "id": "played-brave",
   "metadata": {},
   "outputs": [
    {
     "data": {
      "text/html": [
       "<div>\n",
       "<style scoped>\n",
       "    .dataframe tbody tr th:only-of-type {\n",
       "        vertical-align: middle;\n",
       "    }\n",
       "\n",
       "    .dataframe tbody tr th {\n",
       "        vertical-align: top;\n",
       "    }\n",
       "\n",
       "    .dataframe thead th {\n",
       "        text-align: right;\n",
       "    }\n",
       "</style>\n",
       "<table border=\"1\" class=\"dataframe\">\n",
       "  <thead>\n",
       "    <tr style=\"text-align: right;\">\n",
       "      <th></th>\n",
       "      <th>Unnamed: 0</th>\n",
       "      <th>Run</th>\n",
       "      <th>conc</th>\n",
       "      <th>density</th>\n",
       "    </tr>\n",
       "  </thead>\n",
       "  <tbody>\n",
       "    <tr>\n",
       "      <th>0</th>\n",
       "      <td>1</td>\n",
       "      <td>1</td>\n",
       "      <td>0.048828</td>\n",
       "      <td>0.017</td>\n",
       "    </tr>\n",
       "    <tr>\n",
       "      <th>1</th>\n",
       "      <td>2</td>\n",
       "      <td>1</td>\n",
       "      <td>0.048828</td>\n",
       "      <td>0.018</td>\n",
       "    </tr>\n",
       "    <tr>\n",
       "      <th>2</th>\n",
       "      <td>3</td>\n",
       "      <td>1</td>\n",
       "      <td>0.195312</td>\n",
       "      <td>0.121</td>\n",
       "    </tr>\n",
       "    <tr>\n",
       "      <th>3</th>\n",
       "      <td>4</td>\n",
       "      <td>1</td>\n",
       "      <td>0.195312</td>\n",
       "      <td>0.124</td>\n",
       "    </tr>\n",
       "    <tr>\n",
       "      <th>4</th>\n",
       "      <td>5</td>\n",
       "      <td>1</td>\n",
       "      <td>0.390625</td>\n",
       "      <td>0.206</td>\n",
       "    </tr>\n",
       "    <tr>\n",
       "      <th>...</th>\n",
       "      <td>...</td>\n",
       "      <td>...</td>\n",
       "      <td>...</td>\n",
       "      <td>...</td>\n",
       "    </tr>\n",
       "    <tr>\n",
       "      <th>171</th>\n",
       "      <td>172</td>\n",
       "      <td>11</td>\n",
       "      <td>3.125000</td>\n",
       "      <td>0.980</td>\n",
       "    </tr>\n",
       "    <tr>\n",
       "      <th>172</th>\n",
       "      <td>173</td>\n",
       "      <td>11</td>\n",
       "      <td>6.250000</td>\n",
       "      <td>1.421</td>\n",
       "    </tr>\n",
       "    <tr>\n",
       "      <th>173</th>\n",
       "      <td>174</td>\n",
       "      <td>11</td>\n",
       "      <td>6.250000</td>\n",
       "      <td>1.385</td>\n",
       "    </tr>\n",
       "    <tr>\n",
       "      <th>174</th>\n",
       "      <td>175</td>\n",
       "      <td>11</td>\n",
       "      <td>12.500000</td>\n",
       "      <td>1.715</td>\n",
       "    </tr>\n",
       "    <tr>\n",
       "      <th>175</th>\n",
       "      <td>176</td>\n",
       "      <td>11</td>\n",
       "      <td>12.500000</td>\n",
       "      <td>1.721</td>\n",
       "    </tr>\n",
       "  </tbody>\n",
       "</table>\n",
       "<p>176 rows × 4 columns</p>\n",
       "</div>"
      ],
      "text/plain": [
       "     Unnamed: 0  Run       conc  density\n",
       "0             1    1   0.048828    0.017\n",
       "1             2    1   0.048828    0.018\n",
       "2             3    1   0.195312    0.121\n",
       "3             4    1   0.195312    0.124\n",
       "4             5    1   0.390625    0.206\n",
       "..          ...  ...        ...      ...\n",
       "171         172   11   3.125000    0.980\n",
       "172         173   11   6.250000    1.421\n",
       "173         174   11   6.250000    1.385\n",
       "174         175   11  12.500000    1.715\n",
       "175         176   11  12.500000    1.721\n",
       "\n",
       "[176 rows x 4 columns]"
      ]
     },
     "execution_count": 3,
     "metadata": {},
     "output_type": "execute_result"
    }
   ],
   "source": [
    "DNase"
   ]
  },
  {
   "cell_type": "code",
   "execution_count": 4,
   "id": "manufactured-solid",
   "metadata": {},
   "outputs": [],
   "source": [
    "DNase.sort_values(\"Run\", inplace= True) #sort the data on the \"Run\" column"
   ]
  },
  {
   "cell_type": "code",
   "execution_count": 5,
   "id": "cubic-clothing",
   "metadata": {},
   "outputs": [],
   "source": [
    "DNase.set_index(\"Run\", inplace= True) #set \"Run\" as an index to make the next part simpler"
   ]
  },
  {
   "cell_type": "code",
   "execution_count": 6,
   "id": "processed-transcription",
   "metadata": {},
   "outputs": [
    {
     "data": {
      "image/png": "[encoded data removed]",
      "text/plain": [
       "<Figure size 720x720 with 11 Axes>"
      ]
     },
     "metadata": {
      "needs_background": "light"
     },
     "output_type": "display_data"
    }
   ],
   "source": [
    "fig = plt.figure(figsize= (10, 10))\n",
    "pos = 1\n",
    "for i in DNase.index.unique(): #for each unique value in the index (\"Runs\") called i\n",
    "    fig.add_subplot(4, 3, pos, \n",
    "                    title= i, \n",
    "                    xlabel= \"concentration\", \n",
    "                    ylabel= \"density\", \n",
    "                    yticks= [0.0, 0.5, 1, 1.5, 2, 2.5], \n",
    "                    autoscaley_on= False)\n",
    "    \n",
    "    plt.scatter(DNase.xs(i)[\"conc\"], DNase.xs(i)[\"density\"], alpha= 0.5) \n",
    "    pos += 1\n",
    "        #call pyplots scatter plot function only on the data where the index is i\n",
    "        #x data is the conc column\n",
    "        #y data is the density column\n",
    "        #label for each data set is the same as the value for Run at that time\n",
    "        #alpha is set to make the dots transparent\n",
    "    \n",
    "     #show the legend with title Run, with the location in the upper left, anchored outside the plot\n",
    "\n",
    "plt.subplots_adjust(hspace= 0.7, wspace= 0.4)\n",
    "plt.show() #show the plot\n",
    "    \n"
   ]
  },
  {
   "cell_type": "code",
   "execution_count": null,
   "id": "thick-field",
   "metadata": {},
   "outputs": [],
   "source": []
  }
 ],
 "metadata": {
  "kernelspec": {
   "display_name": "Python 3",
   "language": "python",
   "name": "python3"
  },
  "language_info": {
   "codemirror_mode": {
    "name": "ipython",
    "version": 3
   },
   "file_extension": ".py",
   "mimetype": "text/x-python",
   "name": "python",
   "nbconvert_exporter": "python",
   "pygments_lexer": "ipython3",
   "version": "3.7.10"
  }
 },
 "nbformat": 4,
 "nbformat_minor": 5
}
