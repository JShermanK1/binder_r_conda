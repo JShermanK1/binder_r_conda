{
 "cells": [
  {
   "cell_type": "code",
   "execution_count": 1,
   "id": "consistent-offer",
   "metadata": {},
   "outputs": [],
   "source": [
    "import pandas as pd #import pandas\n",
    "from matplotlib import pyplot as plt #import just the pyplot part of matplotlib\n"
   ]
  },
  {
   "cell_type": "code",
   "execution_count": 2,
   "id": "pleasant-england",
   "metadata": {},
   "outputs": [],
   "source": [
    "DNase = pd.read_csv(\"./DNase.csv\") #use pandas to read the csv of DNase made seperately in R"
   ]
  },
  {
   "cell_type": "code",
   "execution_count": 7,
   "id": "weighted-madness",
   "metadata": {},
   "outputs": [
    {
     "data": {
      "text/html": [
       "<div>\n",
       "<style scoped>\n",
       "    .dataframe tbody tr th:only-of-type {\n",
       "        vertical-align: middle;\n",
       "    }\n",
       "\n",
       "    .dataframe tbody tr th {\n",
       "        vertical-align: top;\n",
       "    }\n",
       "\n",
       "    .dataframe thead th {\n",
       "        text-align: right;\n",
       "    }\n",
       "</style>\n",
       "<table border=\"1\" class=\"dataframe\">\n",
       "  <thead>\n",
       "    <tr style=\"text-align: right;\">\n",
       "      <th></th>\n",
       "      <th>Unnamed: 0</th>\n",
       "      <th>conc</th>\n",
       "      <th>density</th>\n",
       "    </tr>\n",
       "    <tr>\n",
       "      <th>Run</th>\n",
       "      <th></th>\n",
       "      <th></th>\n",
       "      <th></th>\n",
       "    </tr>\n",
       "  </thead>\n",
       "  <tbody>\n",
       "    <tr>\n",
       "      <th>1</th>\n",
       "      <td>1</td>\n",
       "      <td>0.048828</td>\n",
       "      <td>0.017</td>\n",
       "    </tr>\n",
       "    <tr>\n",
       "      <th>1</th>\n",
       "      <td>16</td>\n",
       "      <td>12.500000</td>\n",
       "      <td>1.710</td>\n",
       "    </tr>\n",
       "    <tr>\n",
       "      <th>1</th>\n",
       "      <td>15</td>\n",
       "      <td>12.500000</td>\n",
       "      <td>1.730</td>\n",
       "    </tr>\n",
       "    <tr>\n",
       "      <th>1</th>\n",
       "      <td>14</td>\n",
       "      <td>6.250000</td>\n",
       "      <td>1.364</td>\n",
       "    </tr>\n",
       "    <tr>\n",
       "      <th>1</th>\n",
       "      <td>13</td>\n",
       "      <td>6.250000</td>\n",
       "      <td>1.334</td>\n",
       "    </tr>\n",
       "    <tr>\n",
       "      <th>...</th>\n",
       "      <td>...</td>\n",
       "      <td>...</td>\n",
       "      <td>...</td>\n",
       "    </tr>\n",
       "    <tr>\n",
       "      <th>11</th>\n",
       "      <td>162</td>\n",
       "      <td>0.048828</td>\n",
       "      <td>0.057</td>\n",
       "    </tr>\n",
       "    <tr>\n",
       "      <th>11</th>\n",
       "      <td>161</td>\n",
       "      <td>0.048828</td>\n",
       "      <td>0.047</td>\n",
       "    </tr>\n",
       "    <tr>\n",
       "      <th>11</th>\n",
       "      <td>175</td>\n",
       "      <td>12.500000</td>\n",
       "      <td>1.715</td>\n",
       "    </tr>\n",
       "    <tr>\n",
       "      <th>11</th>\n",
       "      <td>167</td>\n",
       "      <td>0.781250</td>\n",
       "      <td>0.427</td>\n",
       "    </tr>\n",
       "    <tr>\n",
       "      <th>11</th>\n",
       "      <td>176</td>\n",
       "      <td>12.500000</td>\n",
       "      <td>1.721</td>\n",
       "    </tr>\n",
       "  </tbody>\n",
       "</table>\n",
       "<p>176 rows × 3 columns</p>\n",
       "</div>"
      ],
      "text/plain": [
       "     Unnamed: 0       conc  density\n",
       "Run                                \n",
       "1             1   0.048828    0.017\n",
       "1            16  12.500000    1.710\n",
       "1            15  12.500000    1.730\n",
       "1            14   6.250000    1.364\n",
       "1            13   6.250000    1.334\n",
       "..          ...        ...      ...\n",
       "11          162   0.048828    0.057\n",
       "11          161   0.048828    0.047\n",
       "11          175  12.500000    1.715\n",
       "11          167   0.781250    0.427\n",
       "11          176  12.500000    1.721\n",
       "\n",
       "[176 rows x 3 columns]"
      ]
     },
     "execution_count": 7,
     "metadata": {},
     "output_type": "execute_result"
    }
   ],
   "source": [
    "DNase"
   ]
  },
  {
   "cell_type": "code",
   "execution_count": 3,
   "id": "superb-recognition",
   "metadata": {},
   "outputs": [],
   "source": [
    "DNase.sort_values(\"Run\", inplace= True) #sort the data on the \"Run\" column"
   ]
  },
  {
   "cell_type": "code",
   "execution_count": 4,
   "id": "generic-element",
   "metadata": {},
   "outputs": [],
   "source": [
    "DNase.set_index(\"Run\", inplace= True) #set \"Run\" as an index to make the next part simpler"
   ]
  },
  {
   "cell_type": "code",
   "execution_count": 8,
   "id": "manufactured-bread",
   "metadata": {},
   "outputs": [
    {
     "data": {
      "image/png": "[encoded data removed]",
      "text/plain": [
       "<Figure size 432x288 with 1 Axes>"
      ]
     },
     "metadata": {
      "needs_background": "light"
     },
     "output_type": "display_data"
    }
   ],
   "source": [
    "for i in DNase.index.unique(): #for each unique value in the index (\"Runs\") called i\n",
    "       plt.scatter(DNase.xs(i)[\"conc\"], DNase.xs(i)[\"density\"], label= i, alpha= 0.5) \n",
    "        #call pyplots scatter plot function only on the data where the index is i\n",
    "        #x data is the conc column\n",
    "        #y data is the density column\n",
    "        #label for each data set is the same as the value for Run at that time\n",
    "        #alpha is set to make the dots transparent\n",
    "        \n",
    "plt.legend(title= \"Run\", loc= \"upper left\", bbox_to_anchor= (1, 1)) #show the legend with title Run, with the location in the upper left, anchored outside the plot\n",
    "plt.show() #show the plot\n",
    "    \n"
   ]
  },
  {
   "cell_type": "code",
   "execution_count": null,
   "id": "static-underwear",
   "metadata": {},
   "outputs": [],
   "source": []
  }
 ],
 "metadata": {
  "kernelspec": {
   "display_name": "Python 3",
   "language": "python",
   "name": "python3"
  },
  "language_info": {
   "codemirror_mode": {
    "name": "ipython",
    "version": 3
   },
   "file_extension": ".py",
   "mimetype": "text/x-python",
   "name": "python",
   "nbconvert_exporter": "python",
   "pygments_lexer": "ipython3",
   "version": "3.7.10"
  }
 },
 "nbformat": 4,
 "nbformat_minor": 5
}
